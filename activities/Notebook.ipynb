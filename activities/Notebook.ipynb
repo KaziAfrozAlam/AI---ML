{
 "cells": [
  {
   "cell_type": "markdown",
   "id": "591e6d12",
   "metadata": {},
   "source": [
    "# JupyterLab Shortcuts\n"
   ]
  },
  {
   "cell_type": "markdown",
   "id": "88dba66b",
   "metadata": {},
   "source": []
  }
 ],
 "metadata": {
  "language_info": {
   "name": "python"
  }
 },
 "nbformat": 4,
 "nbformat_minor": 5
}
