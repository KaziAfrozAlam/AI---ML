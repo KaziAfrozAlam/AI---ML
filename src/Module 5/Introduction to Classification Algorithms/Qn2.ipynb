{
 "cells": [
  {
   "cell_type": "markdown",
   "metadata": {},
   "source": [
    "Title: Binary vs. Multi-Class Classification<br>\n",
    "\n",
    "Task 1:<br>\n",
    "Binary Classification: Predict if a website visitor will click a button (Click or No Click).<br>\n",
    "Use a web visitor interaction dataset.<br>\n",
    "Task: Implement binary classification for click prediction."
   ]
  },
  {
   "cell_type": "code",
   "execution_count": 1,
   "metadata": {},
   "outputs": [
    {
     "name": "stdout",
     "output_type": "stream",
     "text": [
      "Classification Report:\n",
      "               precision    recall  f1-score   support\n",
      "\n",
      "           0       0.54      0.69      0.60        97\n",
      "           1       0.60      0.44      0.51       103\n",
      "\n",
      "    accuracy                           0.56       200\n",
      "   macro avg       0.57      0.56      0.55       200\n",
      "weighted avg       0.57      0.56      0.55       200\n",
      "\n",
      "Confusion Matrix:\n",
      " [[67 30]\n",
      " [58 45]]\n"
     ]
    }
   ],
   "source": [
    "# Write your code here\n",
    "import numpy as np\n",
    "import pandas as pd\n",
    "from sklearn.model_selection import train_test_split\n",
    "from sklearn.linear_model import LogisticRegression\n",
    "from sklearn.metrics import classification_report, confusion_matrix\n",
    "\n",
    "# Simulating a simple web visitor interaction dataset\n",
    "np.random.seed(42)\n",
    "n_samples = 1000\n",
    "X_click = np.random.rand(n_samples, 3)  # Features like time spent on site, number of pages visited, etc.\n",
    "y_click = np.random.randint(0, 2, size=n_samples)  # 0 = No Click, 1 = Click\n",
    "\n",
    "# Create DataFrame\n",
    "column_names = ['Time Spent (seconds)', 'Pages Visited', 'Referral Source'] + ['Clicked']\n",
    "click_data = pd.DataFrame(np.column_stack((X_click, y_click)), columns=column_names)\n",
    "\n",
    "# Split dataset for model training\n",
    "X_train, X_test, y_train, y_test = train_test_split(X_click, y_click, test_size=0.2, random_state=42)\n",
    "\n",
    "# Train Logistic Regression Model\n",
    "logreg = LogisticRegression()\n",
    "logreg.fit(X_train, y_train)\n",
    "\n",
    "# Evaluate Model\n",
    "y_pred = logreg.predict(X_test)\n",
    "print(\"Classification Report:\\n\", classification_report(y_test, y_pred))\n",
    "print(\"Confusion Matrix:\\n\", confusion_matrix(y_test, y_pred))\n"
   ]
  },
  {
   "cell_type": "markdown",
   "metadata": {},
   "source": [
    "Task 2:<br>\n",
    "Multi-Class Classification: Recognize handwritten digits (0-9).<br>\n",
    "Use the MNIST dataset.<br>\n",
    "Task: Develop a model that correctly classifies each handwritten digit.<br>\n"
   ]
  },
  {
   "cell_type": "code",
   "execution_count": 2,
   "metadata": {},
   "outputs": [
    {
     "name": "stdout",
     "output_type": "stream",
     "text": [
      "Classification Report:\n",
      "               precision    recall  f1-score   support\n",
      "\n",
      "           0       0.96      0.97      0.96      1343\n",
      "           1       0.94      0.97      0.96      1600\n",
      "           2       0.91      0.89      0.90      1380\n",
      "           3       0.90      0.89      0.90      1433\n",
      "           4       0.92      0.93      0.93      1295\n",
      "           5       0.88      0.88      0.88      1273\n",
      "           6       0.94      0.95      0.95      1396\n",
      "           7       0.93      0.94      0.93      1503\n",
      "           8       0.90      0.87      0.88      1357\n",
      "           9       0.90      0.90      0.90      1420\n",
      "\n",
      "    accuracy                           0.92     14000\n",
      "   macro avg       0.92      0.92      0.92     14000\n",
      "weighted avg       0.92      0.92      0.92     14000\n",
      "\n",
      "Confusion Matrix:\n",
      " [[1297    1    7    0    3   11   12    4    6    2]\n",
      " [   0 1548    6   10    3   12    0    4   15    2]\n",
      " [   5   20 1233   20   15   10   21   17   29   10]\n",
      " [   6   10   30 1281    1   39    7   18   23   18]\n",
      " [   5    3    6    5 1202    5   10    8    7   44]\n",
      " [   4   12    8   43   11 1119   22    4   36   14]\n",
      " [   5    5   19    1   14   17 1331    1    3    0]\n",
      " [   6    4   26    3   10    6    0 1416    1   31]\n",
      " [  10   27   14   44    6   42    9    9 1177   19]\n",
      " [   8   11    5   13   36    7    0   46   15 1279]]\n"
     ]
    }
   ],
   "source": [
    "# Write your code here\n",
    "from sklearn.datasets import fetch_openml\n",
    "from sklearn.model_selection import train_test_split\n",
    "from sklearn.linear_model import LogisticRegression\n",
    "from sklearn.metrics import classification_report, confusion_matrix\n",
    "\n",
    "mnist = fetch_openml('mnist_784', version=1)\n",
    "X = mnist.data / 255.0 \n",
    "y = mnist.target.astype(int)\n",
    "\n",
    "X_train, X_test, y_train, y_test = train_test_split(X, y, test_size=0.2, random_state=42)\n",
    "\n",
    "logreg = LogisticRegression(max_iter=1000)\n",
    "logreg.fit(X_train, y_train)\n",
    "\n",
    "y_pred = logreg.predict(X_test)\n",
    "print(\"Classification Report:\\n\", classification_report(y_test, y_pred))\n",
    "print(\"Confusion Matrix:\\n\", confusion_matrix(y_test, y_pred))\n"
   ]
  },
  {
   "cell_type": "markdown",
   "metadata": {},
   "source": [
    "Task 3:<br>\n",
    "Multi-Class Classification: Classify a flower species based on petal and sepal measurements.<br>\n",
    "Use the Iris dataset.<br>\n",
    "Task: Use features to classify into three species: Setosa, Versicolor, or Virginica.\n"
   ]
  },
  {
   "cell_type": "code",
   "execution_count": null,
   "metadata": {},
   "outputs": [
    {
     "name": "stdout",
     "output_type": "stream",
     "text": [
      "Classification Report:\n",
      "               precision    recall  f1-score   support\n",
      "\n",
      "           0       1.00      1.00      1.00        10\n",
      "           1       1.00      1.00      1.00         9\n",
      "           2       1.00      1.00      1.00        11\n",
      "\n",
      "    accuracy                           1.00        30\n",
      "   macro avg       1.00      1.00      1.00        30\n",
      "weighted avg       1.00      1.00      1.00        30\n",
      "\n",
      "Confusion Matrix:\n",
      " [[10  0  0]\n",
      " [ 0  9  0]\n",
      " [ 0  0 11]]\n"
     ]
    },
    {
     "ename": "",
     "evalue": "",
     "output_type": "error",
     "traceback": [
      "\u001b[1;31mThe Kernel crashed while executing code in the current cell or a previous cell. \n",
      "\u001b[1;31mPlease review the code in the cell(s) to identify a possible cause of the failure. \n",
      "\u001b[1;31mClick <a href='https://aka.ms/vscodeJupyterKernelCrash'>here</a> for more info. \n",
      "\u001b[1;31mView Jupyter <a href='command:jupyter.viewOutput'>log</a> for further details."
     ]
    }
   ],
   "source": [
    "# Write your code here\n",
    "from sklearn.datasets import load_iris\n",
    "from sklearn.model_selection import train_test_split\n",
    "from sklearn.linear_model import LogisticRegression\n",
    "from sklearn.metrics import classification_report, confusion_matrix\n",
    "\n",
    "iris = load_iris()\n",
    "X = iris.data\n",
    "y = iris.target\n",
    "\n",
    "X_train, X_test, y_train, y_test = train_test_split(X, y, test_size=0.2, random_state=42)\n",
    "\n",
    "logreg = LogisticRegression(max_iter=1000)\n",
    "logreg.fit(X_train, y_train)\n",
    "\n",
    "y_pred = logreg.predict(X_test)\n",
    "print(\"Classification Report:\\n\", classification_report(y_test, y_pred))\n",
    "print(\"Confusion Matrix:\\n\", confusion_matrix(y_test, y_pred))\n"
   ]
  }
 ],
 "metadata": {
  "kernelspec": {
   "display_name": "Python 3",
   "language": "python",
   "name": "python3"
  },
  "language_info": {
   "codemirror_mode": {
    "name": "ipython",
    "version": 3
   },
   "file_extension": ".py",
   "mimetype": "text/x-python",
   "name": "python",
   "nbconvert_exporter": "python",
   "pygments_lexer": "ipython3",
   "version": "3.10.12"
  }
 },
 "nbformat": 4,
 "nbformat_minor": 2
}
