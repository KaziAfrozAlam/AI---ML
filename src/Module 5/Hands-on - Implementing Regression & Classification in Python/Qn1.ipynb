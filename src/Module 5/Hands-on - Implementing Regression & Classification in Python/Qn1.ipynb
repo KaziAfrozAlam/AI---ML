{
 "cells": [
  {
   "cell_type": "markdown",
   "metadata": {},
   "source": [
    "Title: Train a Linear Regression Model"
   ]
  },
  {
   "cell_type": "markdown",
   "metadata": {},
   "source": [
    "Task 1: Predicting House Prices<br>\n",
    "Dataset: Use a dataset that contains various features of houses such as square footage, number of bedrooms, and age of the house."
   ]
  },
  {
   "cell_type": "code",
   "execution_count": 1,
   "metadata": {},
   "outputs": [
    {
     "name": "stdout",
     "output_type": "stream",
     "text": [
      "House Price Prediction:\n",
      "R²: 0.9593255189357124\n",
      "MSE: 411369707.6311645\n"
     ]
    }
   ],
   "source": [
    "# Write your code here\n",
    "import pandas as pd\n",
    "import numpy as np\n",
    "from sklearn.linear_model import LinearRegression\n",
    "from sklearn.model_selection import train_test_split\n",
    "from sklearn.metrics import mean_squared_error, r2_score\n",
    "\n",
    "np.random.seed(0)\n",
    "house_df = pd.DataFrame({\n",
    "    'SquareFootage': np.random.randint(800, 4000, 100),\n",
    "    'Bedrooms': np.random.randint(1, 5, 100),\n",
    "    'HouseAge': np.random.randint(1, 30, 100),\n",
    "})\n",
    "house_df['Price'] = 50000 + house_df['SquareFootage'] * 100 + house_df['Bedrooms'] * 10000 - house_df['HouseAge'] * 500 + np.random.normal(0, 20000, 100)\n",
    "\n",
    "X = house_df[['SquareFootage', 'Bedrooms', 'HouseAge']]\n",
    "y = house_df['Price']\n",
    "X_train, X_test, y_train, y_test = train_test_split(X, y, test_size=0.2)\n",
    "\n",
    "house_model = LinearRegression()\n",
    "house_model.fit(X_train, y_train)\n",
    "y_pred = house_model.predict(X_test)\n",
    "print(\"House Price Prediction:\")\n",
    "print(\"R²:\", r2_score(y_test, y_pred))\n",
    "print(\"MSE:\", mean_squared_error(y_test, y_pred))\n"
   ]
  },
  {
   "cell_type": "markdown",
   "metadata": {},
   "source": [
    "Task 2: Predicting Car Mileage (MPG)<br>\n",
    "Dataset: Use a dataset where features include horsepower, weight, and model year of cars."
   ]
  },
  {
   "cell_type": "code",
   "execution_count": null,
   "metadata": {},
   "outputs": [
    {
     "name": "stdout",
     "output_type": "stream",
     "text": [
      "\n",
      "Car MPG Prediction:\n",
      "R²: 0.8429748723834394\n",
      "MSE: 3.7571657062239274\n"
     ]
    }
   ],
   "source": [
    "# Write your code here\n",
    "car_df = pd.DataFrame({\n",
    "    'Horsepower': np.random.randint(70, 250, 100),\n",
    "    'Weight': np.random.randint(2000, 5000, 100),\n",
    "    'ModelYear': np.random.randint(2000, 2023, 100),\n",
    "})\n",
    "car_df['MPG'] = 50 - car_df['Horsepower'] * 0.05 - car_df['Weight'] * 0.005 + (car_df['ModelYear'] - 2000) * 0.3 + np.random.normal(0, 2, 100)\n",
    "\n",
    "X = car_df[['Horsepower', 'Weight', 'ModelYear']]\n",
    "y = car_df['MPG']\n",
    "X_train, X_test, y_train, y_test = train_test_split(X, y, test_size=0.2)\n",
    "\n",
    "car_model = LinearRegression()\n",
    "car_model.fit(X_train, y_train)\n",
    "y_pred = car_model.predict(X_test)\n",
    "print(\"\\nCar MPG Prediction:\")\n",
    "print(\"R²:\", r2_score(y_test, y_pred))\n",
    "print(\"MSE:\", mean_squared_error(y_test, y_pred))\n"
   ]
  },
  {
   "cell_type": "markdown",
   "metadata": {},
   "source": [
    "Task 3: Predicting Student's Scores'\n",
    "Dataset: Use a dataset that contains study hours and corresponding student test scores."
   ]
  },
  {
   "cell_type": "code",
   "execution_count": null,
   "metadata": {},
   "outputs": [
    {
     "name": "stdout",
     "output_type": "stream",
     "text": [
      "\n",
      "Student Score Prediction:\n",
      "R²: 0.9576375607358445\n",
      "MSE: 26.514826495384064\n"
     ]
    }
   ],
   "source": [
    "# Write your code here\n",
    "study_df = pd.DataFrame({\n",
    "    'StudyHours': np.linspace(1, 10, 100)\n",
    "})\n",
    "study_df['TestScore'] = study_df['StudyHours'] * 10 + np.random.normal(0, 5, 100)\n",
    "\n",
    "X = study_df[['StudyHours']]\n",
    "y = study_df['TestScore']\n",
    "X_train, X_test, y_train, y_test = train_test_split(X, y, test_size=0.2)\n",
    "score_model = LinearRegression()\n",
    "score_model.fit(X_train, y_train)\n",
    "y_pred = score_model.predict(X_test)\n",
    "print(\"\\nStudent Score Prediction:\")\n",
    "print(\"R²:\", r2_score(y_test, y_pred))\n",
    "print(\"MSE:\", mean_squared_error(y_test, y_pred))\n"
   ]
  }
 ],
 "metadata": {
  "kernelspec": {
   "display_name": "Python 3",
   "language": "python",
   "name": "python3"
  },
  "language_info": {
   "codemirror_mode": {
    "name": "ipython",
    "version": 3
   },
   "file_extension": ".py",
   "mimetype": "text/x-python",
   "name": "python",
   "nbconvert_exporter": "python",
   "pygments_lexer": "ipython3",
   "version": "3.10.12"
  }
 },
 "nbformat": 4,
 "nbformat_minor": 2
}
