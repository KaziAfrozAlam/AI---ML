{
 "cells": [
  {
   "cell_type": "markdown",
   "metadata": {},
   "source": [
    "Title: Regression Models"
   ]
  },
  {
   "cell_type": "markdown",
   "metadata": {},
   "source": [
    "Linear Regression (Simple & Multiple)"
   ]
  },
  {
   "cell_type": "markdown",
   "metadata": {},
   "source": [
    "Task 1: Differentiate between a labeled dataset of image classifications and an unlabeled dataset for clustering customer segments."
   ]
  },
  {
   "cell_type": "code",
   "execution_count": 1,
   "metadata": {},
   "outputs": [
    {
     "name": "stdout",
     "output_type": "stream",
     "text": [
      "Supervised Learning (with labels)\n",
      "Unsupervised Learning (without labels)\n"
     ]
    }
   ],
   "source": [
    "# Write your code here\n",
    "\n",
    "def differentiate_datasets(dataset_type):\n",
    "    if dataset_type == \"labeled image classification\":\n",
    "        return \"Supervised Learning (with labels)\"\n",
    "    elif dataset_type == \"unlabeled customer segmentation\":\n",
    "        return \"Unsupervised Learning (without labels)\"\n",
    "    else:\n",
    "        return \"Unknown dataset type\"\n",
    "\n",
    "print(differentiate_datasets(\"labeled image classification\"))\n",
    "print(differentiate_datasets(\"unlabeled customer segmentation\"))"
   ]
  },
  {
   "cell_type": "markdown",
   "metadata": {},
   "source": [
    "Task 2: Examine a problem statement and determine which learning type is applicable.<br>"
   ]
  },
  {
   "cell_type": "code",
   "execution_count": 2,
   "metadata": {},
   "outputs": [
    {
     "name": "stdout",
     "output_type": "stream",
     "text": [
      "Unknown Learning Type\n",
      "Unknown Learning Type\n"
     ]
    }
   ],
   "source": [
    "# Write your code here\n",
    "def determine_learning_type(problem_statement):\n",
    "    if \"predicting\" in problem_statement and \"labels\" in problem_statement:\n",
    "        return \"Supervised Learning\"\n",
    "    elif \"segmenting\" in problem_statement:\n",
    "        return \"Unsupervised Learning\"\n",
    "    else:\n",
    "        return \"Unknown Learning Type\"\n",
    "\n",
    "problem_statement = \"Predicting house prices based on features\"\n",
    "print(determine_learning_type(problem_statement))  \n",
    "\n",
    "problem_statement = \"Segmenting customers into different groups based on purchasing behavior\"\n",
    "print(determine_learning_type(problem_statement))"
   ]
  },
  {
   "cell_type": "markdown",
   "metadata": {},
   "source": [
    "Task 3: Identify whether facial recognition systems use supervised or unsupervised learning and justify."
   ]
  },
  {
   "cell_type": "code",
   "execution_count": 3,
   "metadata": {},
   "outputs": [
    {
     "name": "stdout",
     "output_type": "stream",
     "text": [
      "Supervised Learning, as it requires labeled data for training (images with known identities).\n"
     ]
    }
   ],
   "source": [
    "# Write your code here\n",
    "\n",
    "def facial_recognition_learning_type():\n",
    "    return \"Supervised Learning, as it requires labeled data for training (images with known identities).\"\n",
    "\n",
    "print(facial_recognition_learning_type())"
   ]
  }
 ],
 "metadata": {
  "kernelspec": {
   "display_name": "Python 3",
   "language": "python",
   "name": "python3"
  },
  "language_info": {
   "codemirror_mode": {
    "name": "ipython",
    "version": 3
   },
   "file_extension": ".py",
   "mimetype": "text/x-python",
   "name": "python",
   "nbconvert_exporter": "python",
   "pygments_lexer": "ipython3",
   "version": "3.10.12"
  }
 },
 "nbformat": 4,
 "nbformat_minor": 2
}
