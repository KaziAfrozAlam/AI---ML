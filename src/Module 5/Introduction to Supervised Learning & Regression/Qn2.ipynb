{
 "cells": [
  {
   "cell_type": "markdown",
   "metadata": {},
   "source": [
    "Title: Types of Supervised Learning: Regression & Classification"
   ]
  },
  {
   "cell_type": "markdown",
   "metadata": {},
   "source": [
    "\n",
    "Task 1: Categorize predicting temperatures (regression) vs. identifying animal species in photo(classification)."
   ]
  },
  {
   "cell_type": "code",
   "execution_count": 2,
   "metadata": {},
   "outputs": [
    {
     "name": "stdout",
     "output_type": "stream",
     "text": [
      "Regression\n",
      "Classification\n"
     ]
    }
   ],
   "source": [
    "# Write your code here\n",
    "def categorize_problem(task):\n",
    "    if task == \"predicting temperatures\":\n",
    "        return \"Regression\"\n",
    "    elif task == \"identifying animal species in photo\":\n",
    "        return \"Classification\"\n",
    "    else:\n",
    "        return \"Unknown task\"\n",
    "\n",
    "print(categorize_problem(\"predicting temperatures\"))\n",
    "print(categorize_problem(\"identifying animal species in photo\"))"
   ]
  },
  {
   "cell_type": "markdown",
   "metadata": {},
   "source": [
    "Task 2: Discuss and decide if predicting GPA based on study hours (regression)"
   ]
  },
  {
   "cell_type": "code",
   "execution_count": 3,
   "metadata": {},
   "outputs": [
    {
     "name": "stdout",
     "output_type": "stream",
     "text": [
      "Predicted GPA for 10 hours of study: 3.5\n"
     ]
    }
   ],
   "source": [
    "# Write your code here\n",
    "def predict_GPA(study_hours):\n",
    "    GPA = 2.5 + 0.1 * study_hours\n",
    "    return GPA\n",
    "\n",
    "study_hours = 10\n",
    "predicted_GPA = predict_GPA(study_hours)\n",
    "print(f\"Predicted GPA for {study_hours} hours of study: {predicted_GPA}\")"
   ]
  },
  {
   "cell_type": "markdown",
   "metadata": {},
   "source": [
    "\n",
    "Task 3: Evaluate whether a model for predicting customer churn is classification or regression."
   ]
  },
  {
   "cell_type": "code",
   "execution_count": 4,
   "metadata": {},
   "outputs": [
    {
     "name": "stdout",
     "output_type": "stream",
     "text": [
      "Customer churn prediction: No Churn\n"
     ]
    }
   ],
   "source": [
    "# Write your code here\n",
    "def predict_customer_churn(customer_data):\n",
    "    return \"No Churn\" if customer_data['hours_spent'] > 1000 else \"Churn\"\n",
    "\n",
    "customer = {'hours_spent': 1200}\n",
    "prediction = predict_customer_churn(customer)\n",
    "print(f\"Customer churn prediction: {prediction}\")"
   ]
  }
 ],
 "metadata": {
  "kernelspec": {
   "display_name": "Python 3",
   "language": "python",
   "name": "python3"
  },
  "language_info": {
   "codemirror_mode": {
    "name": "ipython",
    "version": 3
   },
   "file_extension": ".py",
   "mimetype": "text/x-python",
   "name": "python",
   "nbconvert_exporter": "python",
   "pygments_lexer": "ipython3",
   "version": "3.10.12"
  }
 },
 "nbformat": 4,
 "nbformat_minor": 2
}
