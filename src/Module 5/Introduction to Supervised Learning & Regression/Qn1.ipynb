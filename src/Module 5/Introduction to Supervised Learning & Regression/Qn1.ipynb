{
 "cells": [
  {
   "cell_type": "markdown",
   "metadata": {},
   "source": [
    "Title: Supervised Learning "
   ]
  },
  {
   "cell_type": "markdown",
   "metadata": {},
   "source": [
    "Task 1: Identify input-output pairs in a dataset of housing prices."
   ]
  },
  {
   "cell_type": "code",
   "execution_count": 1,
   "metadata": {},
   "outputs": [
    {
     "name": "stdout",
     "output_type": "stream",
     "text": [
      "Input (Size) and Output (Price) pairs:\n",
      "    Size   Price\n",
      "0  1500  400000\n",
      "1  1800  500000\n",
      "2  2400  600000\n",
      "3  3000  650000\n",
      "4  3500  700000\n"
     ]
    }
   ],
   "source": [
    "# Write your code here\n",
    "import pandas as pd\n",
    "housing_data = pd.DataFrame({\n",
    "    'Size': [1500, 1800, 2400, 3000, 3500],\n",
    "    'Price': [400000, 500000, 600000, 650000, 700000]\n",
    "})\n",
    "\n",
    "X = housing_data[['Size']]\n",
    "y = housing_data['Price']\n",
    "\n",
    "print(\"Input (Size) and Output (Price) pairs:\\n\", housing_data)"
   ]
  },
  {
   "cell_type": "markdown",
   "metadata": {},
   "source": [
    "Task 2: Match labeled images to their correct classifications."
   ]
  },
  {
   "cell_type": "code",
   "execution_count": 5,
   "metadata": {},
   "outputs": [
    {
     "data": {
      "image/png": "[encoded data removed]",
      "text/plain": [
       "<Figure size 640x480 with 1 Axes>"
      ]
     },
     "metadata": {},
     "output_type": "display_data"
    }
   ],
   "source": [
    "# Write your code here\n",
    "from sklearn import datasets\n",
    "import matplotlib.pyplot as plt\n",
    "\n",
    "digits = datasets.load_digits()\n",
    "plt.imshow(digits.images[0], cmap='gray')\n",
    "plt.title(f\"Label: {digits.target[0]}\")\n",
    "plt.show()\n"
   ]
  },
  {
   "cell_type": "markdown",
   "metadata": {},
   "source": [
    "Task 3: List potential inputs and outputs for predicting stock prices."
   ]
  },
  {
   "cell_type": "code",
   "execution_count": 7,
   "metadata": {},
   "outputs": [
    {
     "name": "stdout",
     "output_type": "stream",
     "text": [
      "\n",
      "Potential Inputs and Outputs for Predicting Stock Prices:\n",
      "Inputs: ['Company earnings', 'Market trends', 'Interest rates', 'Economic indicators']\n",
      "Outputs: ['Stock price']\n"
     ]
    }
   ],
   "source": [
    "# Write your code from here\n",
    "inputs = ['Company earnings', 'Market trends', 'Interest rates', 'Economic indicators']\n",
    "outputs = ['Stock price']\n",
    "\n",
    "print(\"\\nPotential Inputs and Outputs for Predicting Stock Prices:\")\n",
    "print(\"Inputs:\", inputs)\n",
    "print(\"Outputs:\", outputs)"
   ]
  }
 ],
 "metadata": {
  "kernelspec": {
   "display_name": "Python 3",
   "language": "python",
   "name": "python3"
  },
  "language_info": {
   "codemirror_mode": {
    "name": "ipython",
    "version": 3
   },
   "file_extension": ".py",
   "mimetype": "text/x-python",
   "name": "python",
   "nbconvert_exporter": "python",
   "pygments_lexer": "ipython3",
   "version": "3.10.12"
  }
 },
 "nbformat": 4,
 "nbformat_minor": 2
}
