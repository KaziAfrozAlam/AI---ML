{
 "cells": [
  {
   "cell_type": "code",
   "execution_count": 1,
   "metadata": {},
   "outputs": [
    {
     "name": "stdout",
     "output_type": "stream",
     "text": [
      "\n",
      "Cluster 1 Frequent Itemsets:\n",
      "   support       itemsets\n",
      "0      0.8        (bread)\n",
      "1      0.6         (eggs)\n",
      "2      1.0         (milk)\n",
      "3      0.8  (milk, bread)\n",
      "4      0.6   (milk, eggs)\n",
      "\n",
      "Cluster 2 Frequent Itemsets:\n",
      "   support         itemsets\n",
      "0      1.0          (bread)\n",
      "1      1.0         (butter)\n",
      "2      1.0  (butter, bread)\n",
      "\n",
      "Cluster 3 Frequent Itemsets:\n",
      "    support        itemsets\n",
      "0  0.666667         (bread)\n",
      "1  0.666667        (butter)\n",
      "2  1.000000          (eggs)\n",
      "3  0.666667   (eggs, bread)\n",
      "4  0.666667  (eggs, butter)\n"
     ]
    }
   ],
   "source": [
    "# Question 4: Combine hierarchical clustering with Apriori to analyze clustered data and find frequent patterns within each cluster of a given dataset.\n",
    "\n",
    "import pandas as pd\n",
    "from mlxtend.preprocessing import TransactionEncoder\n",
    "from mlxtend.frequent_patterns import apriori\n",
    "from scipy.cluster.hierarchy import linkage, fcluster\n",
    "from scipy.spatial.distance import pdist\n",
    "\n",
    "dataset = [\n",
    "    ['milk', 'bread', 'butter'],\n",
    "    ['bread', 'butter'],\n",
    "    ['milk', 'bread'],\n",
    "    ['milk', 'bread', 'butter', 'eggs'],\n",
    "    ['bread', 'butter'],\n",
    "    ['eggs', 'bread'],\n",
    "    ['milk', 'eggs'],\n",
    "    ['bread', 'butter', 'eggs'],\n",
    "    ['milk', 'bread', 'eggs'],\n",
    "    ['butter', 'eggs']\n",
    "]\n",
    "\n",
    "te = TransactionEncoder()\n",
    "te_array = te.fit(dataset).transform(dataset)\n",
    "df = pd.DataFrame(te_array, columns=te.columns_)\n",
    "\n",
    "distance_matrix = pdist(df.values, metric='jaccard')\n",
    "Z = linkage(distance_matrix, method='ward')\n",
    "\n",
    "cluster_labels = fcluster(Z, t=3, criterion='maxclust')\n",
    "\n",
    "df['cluster'] = cluster_labels\n",
    "\n",
    "for cluster_num in sorted(df['cluster'].unique()):\n",
    "    cluster_data = df[df['cluster'] == cluster_num].drop(columns=['cluster'])\n",
    "    frequent_itemsets = apriori(cluster_data, min_support=0.5, use_colnames=True)\n",
    "    print(f\"\\nCluster {cluster_num} Frequent Itemsets:\")\n",
    "    print(frequent_itemsets)\n"
   ]
  }
 ],
 "metadata": {
  "kernelspec": {
   "display_name": "Python 3",
   "language": "python",
   "name": "python3"
  },
  "language_info": {
   "codemirror_mode": {
    "name": "ipython",
    "version": 3
   },
   "file_extension": ".py",
   "mimetype": "text/x-python",
   "name": "python",
   "nbconvert_exporter": "python",
   "pygments_lexer": "ipython3",
   "version": "3.10.12"
  }
 },
 "nbformat": 4,
 "nbformat_minor": 2
}
