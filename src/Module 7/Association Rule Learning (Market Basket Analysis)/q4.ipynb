{
 "cells": [
  {
   "cell_type": "code",
   "execution_count": null,
   "metadata": {},
   "outputs": [
    {
     "name": "stdout",
     "output_type": "stream",
     "text": [
      "Frequent Itemsets:\n",
      "   support         itemsets\n",
      "0      1.0          (bread)\n",
      "1      0.8         (butter)\n",
      "2      0.6           (milk)\n",
      "3      0.8  (butter, bread)\n",
      "4      0.6    (milk, bread)\n",
      "\n",
      "Optimized Association Rules:\n",
      "  antecedents consequents  support  confidence  lift\n",
      "0    (butter)     (bread)      0.8         1.0   1.0\n",
      "1     (bread)    (butter)      0.8         0.8   1.0\n",
      "2      (milk)     (bread)      0.6         1.0   1.0\n"
     ]
    }
   ],
   "source": [
    "# Question 4: Optimizing Association Rule Learning Performance\n",
    "# Description:\n",
    "# Discuss methods to improve the performance of association rule learning in large datasets.\n",
    "\n",
    "from mlxtend.frequent_patterns import apriori, association_rules\n",
    "from mlxtend.preprocessing import TransactionEncoder\n",
    "import pandas as pd\n",
    "import numpy as np\n",
    "import warnings\n",
    "\n",
    "warnings.filterwarnings(\"ignore\", category=RuntimeWarning)\n",
    "\n",
    "dataset = [\n",
    "    ['milk', 'bread', 'butter'],\n",
    "    ['bread', 'butter'],\n",
    "    ['milk', 'bread'],\n",
    "    ['milk', 'bread', 'butter', 'eggs'],\n",
    "    ['bread', 'butter']\n",
    "]\n",
    "\n",
    "te = TransactionEncoder()\n",
    "te_array = te.fit(dataset).transform(dataset)\n",
    "df = pd.DataFrame(te_array, columns=te.columns_)\n",
    "\n",
    "frequent_itemsets = apriori(df, min_support=0.6, use_colnames=True)\n",
    "print(\"Frequent Itemsets:\")\n",
    "print(frequent_itemsets)\n",
    "\n",
    "rules = association_rules(frequent_itemsets, metric=\"confidence\", min_threshold=0.7)\n",
    "\n",
    "rules = rules.replace([np.inf, -np.inf], np.nan).dropna(subset=['lift', 'confidence', 'support'])\n",
    "\n",
    "print(\"\\nOptimized Association Rules:\")\n",
    "print(rules[['antecedents', 'consequents', 'support', 'confidence', 'lift']])\n",
    "\n"
   ]
  }
 ],
 "metadata": {
  "kernelspec": {
   "display_name": "Python 3",
   "language": "python",
   "name": "python3"
  },
  "language_info": {
   "codemirror_mode": {
    "name": "ipython",
    "version": 3
   },
   "file_extension": ".py",
   "mimetype": "text/x-python",
   "name": "python",
   "nbconvert_exporter": "python",
   "pygments_lexer": "ipython3",
   "version": "3.10.12"
  }
 },
 "nbformat": 4,
 "nbformat_minor": 2
}
