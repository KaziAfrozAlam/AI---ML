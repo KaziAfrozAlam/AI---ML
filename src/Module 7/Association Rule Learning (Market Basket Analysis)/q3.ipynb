{
 "cells": [
  {
   "cell_type": "code",
   "execution_count": null,
   "metadata": {},
   "outputs": [
    {
     "name": "stdout",
     "output_type": "stream",
     "text": [
      "Potential Fraud Detection Rules:\n",
      "                  antecedents                             consequents  \\\n",
      "3                     (login)                   (suspicious_location)   \n",
      "5                  (transfer)                   (suspicious_location)   \n",
      "8           (transfer, login)                   (suspicious_location)   \n",
      "10                 (transfer)            (suspicious_location, login)   \n",
      "11                    (login)         (suspicious_location, transfer)   \n",
      "12                   (logout)                   (suspicious_location)   \n",
      "16         (logout, transfer)                   (suspicious_location)   \n",
      "17                   (logout)         (suspicious_location, transfer)   \n",
      "22            (logout, login)                   (suspicious_location)   \n",
      "23                   (logout)            (suspicious_location, login)   \n",
      "26  (logout, transfer, login)                   (suspicious_location)   \n",
      "28         (logout, transfer)            (suspicious_location, login)   \n",
      "29            (logout, login)         (suspicious_location, transfer)   \n",
      "30                   (logout)  (suspicious_location, transfer, login)   \n",
      "\n",
      "    support  confidence      lift  \n",
      "3       0.6    0.666667  0.952381  \n",
      "5       0.5    0.625000  0.892857  \n",
      "8       0.5    0.625000  0.892857  \n",
      "10      0.5    0.625000  1.041667  \n",
      "11      0.5    0.555556  1.111111  \n",
      "12      0.3    0.750000  1.071429  \n",
      "16      0.2    0.666667  0.952381  \n",
      "17      0.2    0.500000  1.000000  \n",
      "22      0.2    0.666667  0.952381  \n",
      "23      0.2    0.500000  0.833333  \n",
      "26      0.2    0.666667  0.952381  \n",
      "28      0.2    0.666667  1.111111  \n",
      "29      0.2    0.666667  1.333333  \n",
      "30      0.2    0.500000  1.000000  \n"
     ]
    }
   ],
   "source": [
    "# Question 3: Fraud Detection with Association Rules\n",
    "# Description:\n",
    "# Explore how association rule learning can be employed for detecting fraudulent transactions.\n",
    "\n",
    "import pandas as pd\n",
    "from mlxtend.preprocessing import TransactionEncoder\n",
    "from mlxtend.frequent_patterns import fpgrowth, association_rules\n",
    "\n",
    "transactions = [\n",
    "    ['login', 'transfer', 'logout', 'suspicious_location'],\n",
    "    ['login', 'transfer', 'suspicious_location'],\n",
    "    ['login', 'change_password', 'transfer'],\n",
    "    ['login', 'transfer', 'logout'],\n",
    "    ['login', 'suspicious_location'],\n",
    "    ['login', 'transfer', 'logout', 'suspicious_location'],\n",
    "    ['login', 'transfer'],\n",
    "    ['login', 'transfer', 'suspicious_location'],\n",
    "    ['logout', 'suspicious_location'],\n",
    "    ['login', 'transfer', 'suspicious_location']\n",
    "]\n",
    "\n",
    "encoder = TransactionEncoder()\n",
    "\n",
    "encoded_array = encoder.fit(transactions).transform(transactions)\n",
    "\n",
    "df = pd.DataFrame(encoded_array, columns=encoder.columns_)\n",
    "\n",
    "frequent_itemsets = fpgrowth(df, min_support=0.2, use_colnames=True)\n",
    "\n",
    "rules = association_rules(frequent_itemsets, metric=\"confidence\", min_threshold=0.5)\n",
    "\n",
    "fraud_rules = rules[rules['consequents'].astype(str).str.contains('suspicious_location')]\n",
    "\n",
    "print(\"Potential Fraud Detection Rules:\")\n",
    "print(fraud_rules[['antecedents', 'consequents', 'support', 'confidence', 'lift']])\n"
   ]
  }
 ],
 "metadata": {
  "kernelspec": {
   "display_name": "Python 3",
   "language": "python",
   "name": "python3"
  },
  "language_info": {
   "codemirror_mode": {
    "name": "ipython",
    "version": 3
   },
   "file_extension": ".py",
   "mimetype": "text/x-python",
   "name": "python",
   "nbconvert_exporter": "python",
   "pygments_lexer": "ipython3",
   "version": "3.10.12"
  }
 },
 "nbformat": 4,
 "nbformat_minor": 2
}
