{
 "cells": [
  {
   "cell_type": "code",
   "execution_count": null,
   "metadata": {},
   "outputs": [
    {
     "name": "stdout",
     "output_type": "stream",
     "text": [
      "    support             itemsets\n",
      "0  0.833333              (bread)\n",
      "1  0.333333             (butter)\n",
      "2  0.666667               (eggs)\n",
      "3  0.666667               (milk)\n",
      "4  0.333333      (butter, bread)\n",
      "5  0.500000        (eggs, bread)\n",
      "6  0.500000        (bread, milk)\n",
      "7  0.500000         (eggs, milk)\n",
      "8  0.333333  (eggs, bread, milk)\n",
      "     antecedents    consequents  antecedent support  consequent support  \\\n",
      "0       (butter)        (bread)            0.333333            0.833333   \n",
      "1        (bread)       (butter)            0.833333            0.333333   \n",
      "2         (eggs)         (milk)            0.666667            0.666667   \n",
      "3         (milk)         (eggs)            0.666667            0.666667   \n",
      "4  (eggs, bread)         (milk)            0.500000            0.666667   \n",
      "5  (bread, milk)         (eggs)            0.500000            0.666667   \n",
      "6         (eggs)  (bread, milk)            0.666667            0.500000   \n",
      "7         (milk)  (eggs, bread)            0.666667            0.500000   \n",
      "\n",
      "    support  confidence   lift  representativity  leverage  conviction  \\\n",
      "0  0.333333    1.000000  1.200               1.0  0.055556         inf   \n",
      "1  0.333333    0.400000  1.200               1.0  0.055556    1.111111   \n",
      "2  0.500000    0.750000  1.125               1.0  0.055556    1.333333   \n",
      "3  0.500000    0.750000  1.125               1.0  0.055556    1.333333   \n",
      "4  0.333333    0.666667  1.000               1.0  0.000000    1.000000   \n",
      "5  0.333333    0.666667  1.000               1.0  0.000000    1.000000   \n",
      "6  0.333333    0.500000  1.000               1.0  0.000000    1.000000   \n",
      "7  0.333333    0.500000  1.000               1.0  0.000000    1.000000   \n",
      "\n",
      "   zhangs_metric  jaccard  certainty  kulczynski  \n",
      "0       0.250000      0.4       1.00    0.700000  \n",
      "1       1.000000      0.4       0.10    0.700000  \n",
      "2       0.333333      0.6       0.25    0.750000  \n",
      "3       0.333333      0.6       0.25    0.750000  \n",
      "4       0.000000      0.4       0.00    0.583333  \n",
      "5       0.000000      0.4       0.00    0.583333  \n",
      "6       0.000000      0.4       0.00    0.583333  \n",
      "7       0.000000      0.4       0.00    0.583333  \n"
     ]
    }
   ],
   "source": [
    "# Question 3: Basic Association Rule Learning using Apriori\n",
    "# Description: Use the Apriori algorithm to find association rules in a sample transaction dataset.\n",
    "\n",
    "import pandas as pd\n",
    "from mlxtend.preprocessing import TransactionEncoder\n",
    "from mlxtend.frequent_patterns import apriori, association_rules\n",
    "\n",
    "dataset = [\n",
    "    ['milk', 'bread', 'eggs'],\n",
    "    ['milk', 'bread'],\n",
    "    ['milk', 'eggs'],\n",
    "    ['bread', 'eggs'],\n",
    "    ['milk', 'bread', 'eggs', 'butter'],\n",
    "    ['bread', 'butter']\n",
    "]\n",
    "\n",
    "te = TransactionEncoder()\n",
    "te_ary = te.fit(dataset).transform(dataset)\n",
    "df = pd.DataFrame(te_ary, columns=te.columns_)\n",
    "\n",
    "frequent_itemsets = apriori(df, min_support=0.3, use_colnames=True)\n",
    "rules = association_rules(frequent_itemsets, metric=\"lift\", min_threshold=1)\n",
    "\n",
    "print(frequent_itemsets)\n",
    "print(rules)\n",
    "\n"
   ]
  }
 ],
 "metadata": {
  "kernelspec": {
   "display_name": "Python 3",
   "language": "python",
   "name": "python3"
  },
  "language_info": {
   "codemirror_mode": {
    "name": "ipython",
    "version": 3
   },
   "file_extension": ".py",
   "mimetype": "text/x-python",
   "name": "python",
   "nbconvert_exporter": "python",
   "pygments_lexer": "ipython3",
   "version": "3.10.12"
  }
 },
 "nbformat": 4,
 "nbformat_minor": 2
}
