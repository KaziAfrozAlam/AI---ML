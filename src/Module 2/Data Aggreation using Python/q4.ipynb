{
 "cells": [
  {
   "cell_type": "markdown",
   "metadata": {},
   "source": [
    "Title: Hands-on: Real-World Data Aggregation<br>\n",
    "Objective: Apply learned concepts to real-world data scenarios"
   ]
  },
  {
   "cell_type": "markdown",
   "metadata": {},
   "source": [
    "Task 1: Analyzing Sales by Region<br>\n",
    "\n",
    "Task: Use a real-world sales dataset to calculate yearly sales trends by region.<br>\n",
    " Steps:<br>\n",
    " 28. Acquire a dataset containing columns such as 'date', 'region', and 'sales'.<br>\n",
    " 29. Extract the year from the 'date' column.<br>\n",
    " 30. Group by 'year' and 'region' to apply the sum aggregation on 'sales'"
   ]
  },
  {
   "cell_type": "code",
   "execution_count": 1,
   "metadata": {},
   "outputs": [
    {
     "name": "stdout",
     "output_type": "stream",
     "text": [
      "Yearly Sales by Region:\n",
      " year  region\n",
      "2023  East      200\n",
      "      West      500\n",
      "2024  East      300\n",
      "      South     450\n",
      "Name: sales, dtype: int64\n"
     ]
    }
   ],
   "source": [
    "# Write your code from here\n",
    "import pandas as pd\n",
    "data = {\n",
    "    'date': ['2023-01-10', '2023-03-15', '2024-05-20', '2024-07-11'],\n",
    "    'region': ['East', 'West', 'East', 'South'],\n",
    "    'sales': [200, 500, 300, 450]\n",
    "}\n",
    "df = pd.DataFrame(data)\n",
    "\n",
    "# Step 29: Convert to datetime and extract year\n",
    "df['date'] = pd.to_datetime(df['date'])\n",
    "df['year'] = df['date'].dt.year\n",
    "\n",
    "# Step 30: Group by year and region, then sum sales\n",
    "yearly_sales = df.groupby(['year', 'region'])['sales'].sum()\n",
    "print(\"Yearly Sales by Region:\\n\", yearly_sales)\n"
   ]
  },
  {
   "cell_type": "markdown",
   "metadata": {},
   "source": [
    "Task 2: Customer Purchase Patterns<br>\n",
    "\n",
    "Task: Find the top 5 customers by the total amount spent using a purchases dataset.<br>\n",
    " Steps:<br>\n",
    " 31. Load a dataset with 'customer_id' and 'amount_spent'.<br>\n",
    " 32. Group by 'customer_id'.<br>\n",
    " 33. Use .sum() on 'amount_spent' and sort values"
   ]
  },
  {
   "cell_type": "code",
   "execution_count": 2,
   "metadata": {},
   "outputs": [
    {
     "name": "stdout",
     "output_type": "stream",
     "text": [
      "Top 5 Customers by Total Spend:\n",
      " customer_id\n",
      "C002    350\n",
      "C001    300\n",
      "C004    300\n",
      "C003    150\n",
      "Name: amount_spent, dtype: int64\n"
     ]
    }
   ],
   "source": [
    "# Write your code from here\n",
    "data = {\n",
    "    'customer_id': ['C001', 'C002', 'C001', 'C003', 'C002', 'C004'],\n",
    "    'amount_spent': [100, 250, 200, 150, 100, 300]\n",
    "}\n",
    "df_purchases = pd.DataFrame(data)\n",
    "\n",
    "# Step 32–33: Group by customer and sum, then sort\n",
    "top_customers = df_purchases.groupby('customer_id')['amount_spent'].sum().sort_values(ascending=False).head(5)\n",
    "print(\"Top 5 Customers by Total Spend:\\n\", top_customers)"
   ]
  },
  {
   "cell_type": "markdown",
   "metadata": {},
   "source": [
    " Task 3: Seasonality Analysis<br>\n",
    "\n",
    " Task: Determine which months have the highest and lowest sales for a retail dataset.<br>\n",
    " Steps:<br>\n",
    " 34. Use a dataset with 'transaction_date' and 'sales'.<br>\n",
    " 35. Extract the month from 'transaction_date'.<br>\n",
    " 36. Group by 'month' and sum 'sales', then sort to find extremes"
   ]
  },
  {
   "cell_type": "code",
   "execution_count": 4,
   "metadata": {},
   "outputs": [
    {
     "name": "stdout",
     "output_type": "stream",
     "text": [
      "Sales by Month (Descending):\n",
      " month\n",
      "3    500\n",
      "2    450\n",
      "1    200\n",
      "Name: sales, dtype: int64\n",
      "\n",
      "Highest Sales Month: 3\n",
      "Lowest Sales Month: 1\n"
     ]
    }
   ],
   "source": [
    "# Write your code from here\n",
    "data = {\n",
    "    'transaction_date': ['2023-01-05', '2023-02-10', '2023-02-25', '2023-03-12', '2023-03-25'],\n",
    "    'sales': [200, 300, 150, 400, 100]\n",
    "}\n",
    "df_retail = pd.DataFrame(data)\n",
    "\n",
    "df_retail['transaction_date'] = pd.to_datetime(df_retail['transaction_date'])\n",
    "df_retail['month'] = df_retail['transaction_date'].dt.month\n",
    "\n",
    "monthly_sales = df_retail.groupby('month')['sales'].sum().sort_values(ascending=False)\n",
    "print(\"Sales by Month (Descending):\\n\", monthly_sales)\n",
    "\n",
    "print(\"\\nHighest Sales Month:\", monthly_sales.idxmax())\n",
    "print(\"Lowest Sales Month:\", monthly_sales.idxmin())"
   ]
  }
 ],
 "metadata": {
  "kernelspec": {
   "display_name": "Python 3",
   "language": "python",
   "name": "python3"
  },
  "language_info": {
   "codemirror_mode": {
    "name": "ipython",
    "version": 3
   },
   "file_extension": ".py",
   "mimetype": "text/x-python",
   "name": "python",
   "nbconvert_exporter": "python",
   "pygments_lexer": "ipython3",
   "version": "3.10.12"
  }
 },
 "nbformat": 4,
 "nbformat_minor": 2
}
