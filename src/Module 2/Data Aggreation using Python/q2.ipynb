{
 "cells": [
  {
   "cell_type": "markdown",
   "metadata": {},
   "source": [
    "Title: Grouping & Aggregating Data using Pandas<br>\n",
    "Objective: Learn how to group data and perform aggregations on these groups."
   ]
  },
  {
   "cell_type": "markdown",
   "metadata": {},
   "source": [
    "Task 1: Grouping by a Single Column<br>\n",
    "\n",
    "Task: Group the dataset by 'region' and calculate total sales per region.<br>\n",
    "Steps:<br>\n",
    "10. Load the dataset.<br>\n",
    "11. Use groupby('region') on the DataFrame.<br>\n",
    "12. Apply .sum() to the 'sales' column."
   ]
  },
  {
   "cell_type": "code",
   "execution_count": 2,
   "metadata": {},
   "outputs": [
    {
     "name": "stdout",
     "output_type": "stream",
     "text": [
      "region\n",
      "East     500\n",
      "South    400\n",
      "West     950\n",
      "Name: sales, dtype: int64\n"
     ]
    }
   ],
   "source": [
    "# Write your code from here\n",
    "import pandas as pd\n",
    "\n",
    "# Sample dataset\n",
    "data = {\n",
    "    'region': ['East', 'West', 'East', 'South', 'West', 'South'],\n",
    "    'category': ['Furniture', 'Technology', 'Office Supplies', 'Furniture', 'Technology', 'Office Supplies'],\n",
    "    'sales': [200, 450, 300, 150, 500, 250],\n",
    "    'quantity': [2, 5, 3, 1, 6, 4]\n",
    "}\n",
    "\n",
    "df = pd.DataFrame(data)\n",
    "df\n",
    "\n",
    "total_sales_by_region = df.groupby('region')['sales'].sum()\n",
    "print(total_sales_by_region)\n"
   ]
  },
  {
   "cell_type": "markdown",
   "metadata": {},
   "source": [
    "Task 2: Grouping by Multiple Columns<br>\n",
    "\n",
    "Task: Group the dataset by 'region' and 'category', then find the average sales.<br>\n",
    "Steps:<br>\n",
    "13. Group by ['region', 'category'].<br>\n",
    "14. Use .mean() on the 'sales' column.<br>\n",
    "15. Examine the resulting DataFrame structure."
   ]
  },
  {
   "cell_type": "code",
   "execution_count": 4,
   "metadata": {},
   "outputs": [
    {
     "name": "stdout",
     "output_type": "stream",
     "text": [
      "Average Sales by Region and Category:\n",
      " region  category       \n",
      "East    Furniture          200.0\n",
      "        Office Supplies    300.0\n",
      "South   Furniture          150.0\n",
      "        Office Supplies    250.0\n",
      "West    Technology         475.0\n",
      "Name: sales, dtype: float64\n"
     ]
    }
   ],
   "source": [
    "\n",
    "avg_sales_region_category = df.groupby(['region', 'category'])['sales'].mean()\n",
    "print(\"Average Sales by Region and Category:\\n\", avg_sales_region_category)\n"
   ]
  },
  {
   "cell_type": "markdown",
   "metadata": {},
   "source": [
    "Task 3: Aggregating Multiple Functions<br>\n",
    "\n",
    "Task: Group data by 'category' and apply multiple aggregation functions (sum and count) on 'quantity'.<br>\n",
    "Steps:<br>\n",
    "16. Group by 'category'.<br>\n",
    "17. Use .agg(['sum', 'count']) on 'quantity'.<br>\n",
    "18. Analyze the result to understand how multiple aggregations work."
   ]
  },
  {
   "cell_type": "code",
   "execution_count": 5,
   "metadata": {},
   "outputs": [
    {
     "name": "stdout",
     "output_type": "stream",
     "text": [
      "Aggregated Quantity by Category:\n",
      "                  sum  count\n",
      "category                   \n",
      "Furniture          3      2\n",
      "Office Supplies    7      2\n",
      "Technology        11      2\n"
     ]
    }
   ],
   "source": [
    "\n",
    "agg_quantity_by_category = df.groupby('category')['quantity'].agg(['sum', 'count'])\n",
    "print(\"Aggregated Quantity by Category:\\n\", agg_quantity_by_category)\n"
   ]
  }
 ],
 "metadata": {
  "kernelspec": {
   "display_name": "Python 3",
   "language": "python",
   "name": "python3"
  },
  "language_info": {
   "codemirror_mode": {
    "name": "ipython",
    "version": 3
   },
   "file_extension": ".py",
   "mimetype": "text/x-python",
   "name": "python",
   "nbconvert_exporter": "python",
   "pygments_lexer": "ipython3",
   "version": "3.10.12"
  }
 },
 "nbformat": 4,
 "nbformat_minor": 2
}
