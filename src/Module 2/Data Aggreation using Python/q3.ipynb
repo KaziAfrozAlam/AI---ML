{
 "cells": [
  {
   "cell_type": "markdown",
   "metadata": {},
   "source": [
    "Pivot Tables & Advanced Aggregations<br>\n",
    "Objective: Utilize pivot tables for complex aggregation tasks."
   ]
  },
  {
   "cell_type": "markdown",
   "metadata": {},
   "source": [
    "Task 1: Creating a Basic Pivot Table<br>\n",
    "Task: Create a pivot table that shows the total sales for each 'category' across 'years'.<br>\n",
    "Steps:<br>\n",
    "19. Use pandas pivot_table() function.<br>\n",
    "20. Set index='year' and columns='category' .<br>\n",
    "21. Define the value parameter as 'sales' and aggregation function as np.sum ."
   ]
  },
  {
   "cell_type": "code",
   "execution_count": 1,
   "metadata": {},
   "outputs": [
    {
     "name": "stdout",
     "output_type": "stream",
     "text": [
      "Total Sales per Category per Year:\n",
      " category  Furniture  Office Supplies  Technology\n",
      "year                                            \n",
      "2023            200              250         450\n",
      "2024            150              300         500\n"
     ]
    },
    {
     "name": "stderr",
     "output_type": "stream",
     "text": [
      "/tmp/ipykernel_31835/433197825.py:16: FutureWarning: The provided callable <function sum at 0x767581d679a0> is currently using DataFrameGroupBy.sum. In a future version of pandas, the provided callable will be used directly. To keep current behavior pass the string \"sum\" instead.\n",
      "  pivot_sales = pd.pivot_table(\n"
     ]
    }
   ],
   "source": [
    "# Write your code from here\n",
    "import pandas as pd\n",
    "import numpy as np\n",
    "data = {\n",
    "    'region': ['East', 'West', 'East', 'South', 'West', 'South'],\n",
    "    'category': ['Furniture', 'Technology', 'Office Supplies', 'Furniture', 'Technology', 'Office Supplies'],\n",
    "    'sales': [200, 450, 300, 150, 500, 250],\n",
    "    'quantity': [2, 5, 3, 1, 6, 4],\n",
    "    'profit': [40, 100, 80, 20, 130, 60],\n",
    "    'year': [2023, 2023, 2024, 2024, 2024, 2023],\n",
    "    'month': ['Jan', 'Feb', 'Jan', 'Feb', 'Mar', 'Jan']\n",
    "}\n",
    "\n",
    "df = pd.DataFrame(data)\n",
    "df \n",
    "pivot_sales = pd.pivot_table(\n",
    "    df,\n",
    "    index='year',\n",
    "    columns='category',\n",
    "    values='sales',\n",
    "    aggfunc=np.sum\n",
    ")\n",
    "print(\"Total Sales per Category per Year:\\n\", pivot_sales)\n",
    "\n"
   ]
  },
  {
   "cell_type": "markdown",
   "metadata": {},
   "source": [
    "Task 2: Pivot Table with Multiple Aggregations<br>\n",
    "\n",
    "Task: Generate a pivot table with both mean and max of 'profit' for 'category' each month.<br>\n",
    "Steps:<br>\n",
    "22. Create a pivot table.<br>\n",
    "23. Use aggfunc=['mean', 'max'] .<br>\n",
    "24. Analyze the pivot table output."
   ]
  },
  {
   "cell_type": "code",
   "execution_count": 4,
   "metadata": {},
   "outputs": [
    {
     "name": "stdout",
     "output_type": "stream",
     "text": [
      "Mean and Max Profit by Category and Month:\n",
      "               mean                                  max                  \\\n",
      "category Furniture Office Supplies Technology Furniture Office Supplies   \n",
      "month                                                                     \n",
      "Feb           20.0             NaN      100.0      20.0             NaN   \n",
      "Jan           40.0            70.0        NaN      40.0            80.0   \n",
      "Mar            NaN             NaN      130.0       NaN             NaN   \n",
      "\n",
      "                     \n",
      "category Technology  \n",
      "month                \n",
      "Feb           100.0  \n",
      "Jan             NaN  \n",
      "Mar           130.0  \n"
     ]
    }
   ],
   "source": [
    "# Write your code from here\n",
    "pivot_profit = pd.pivot_table(\n",
    "    df,\n",
    "    index='month',\n",
    "    columns='category',\n",
    "    values='profit',\n",
    "    aggfunc=['mean', 'max']\n",
    ")\n",
    "print(\"Mean and Max Profit by Category and Month:\\n\", pivot_profit)\n"
   ]
  },
  {
   "cell_type": "markdown",
   "metadata": {},
   "source": [
    "Task 3: Advanced Pivot Table with Margins<br>\n",
    "\n",
    "Task: Create a pivot table that includes subtotals for each 'region' and 'category'.<br>\n",
    "Steps:<br>\n",
    "25. Use pivot_table() with margins=True .<br>\n",
    "26. Set the index and columns appropriately.<br>\n",
    "27. Validate subtotal correctness by summing manually."
   ]
  },
  {
   "cell_type": "code",
   "execution_count": 6,
   "metadata": {},
   "outputs": [
    {
     "name": "stdout",
     "output_type": "stream",
     "text": [
      "Sales with Subtotals:\n",
      " category  Furniture  Office Supplies  Technology  Total\n",
      "region                                                 \n",
      "East          200.0            300.0         NaN    500\n",
      "South         150.0            250.0         NaN    400\n",
      "West            NaN              NaN       950.0    950\n",
      "Total         350.0            550.0       950.0   1850\n"
     ]
    },
    {
     "name": "stderr",
     "output_type": "stream",
     "text": [
      "/tmp/ipykernel_31835/1443339050.py:2: FutureWarning: The provided callable <function sum at 0x767581d679a0> is currently using DataFrameGroupBy.sum. In a future version of pandas, the provided callable will be used directly. To keep current behavior pass the string \"sum\" instead.\n",
      "  pivot_with_margins = pd.pivot_table(\n",
      "/tmp/ipykernel_31835/1443339050.py:2: FutureWarning: The provided callable <function sum at 0x767581d679a0> is currently using DataFrameGroupBy.sum. In a future version of pandas, the provided callable will be used directly. To keep current behavior pass the string \"sum\" instead.\n",
      "  pivot_with_margins = pd.pivot_table(\n",
      "/tmp/ipykernel_31835/1443339050.py:2: FutureWarning: The provided callable <function sum at 0x767581d679a0> is currently using DataFrameGroupBy.sum. In a future version of pandas, the provided callable will be used directly. To keep current behavior pass the string \"sum\" instead.\n",
      "  pivot_with_margins = pd.pivot_table(\n"
     ]
    }
   ],
   "source": [
    "# Write your code from here\n",
    "pivot_with_margins = pd.pivot_table(\n",
    "    df,\n",
    "    index='region',\n",
    "    columns='category',\n",
    "    values='sales',\n",
    "    aggfunc=np.sum,\n",
    "    margins=True,\n",
    "    margins_name='Total' \n",
    ")\n",
    "print(\"Sales with Subtotals:\\n\", pivot_with_margins)\n"
   ]
  }
 ],
 "metadata": {
  "kernelspec": {
   "display_name": "Python 3",
   "language": "python",
   "name": "python3"
  },
  "language_info": {
   "codemirror_mode": {
    "name": "ipython",
    "version": 3
   },
   "file_extension": ".py",
   "mimetype": "text/x-python",
   "name": "python",
   "nbconvert_exporter": "python",
   "pygments_lexer": "ipython3",
   "version": "3.10.12"
  }
 },
 "nbformat": 4,
 "nbformat_minor": 2
}
